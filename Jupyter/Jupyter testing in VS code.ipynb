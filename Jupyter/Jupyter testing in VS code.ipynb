{
 "cells": [
  {
   "cell_type": "code",
   "execution_count": 1,
   "metadata": {},
   "outputs": [
    {
     "name": "stdout",
     "output_type": "stream",
     "text": [
      "Your Name\n",
      "Your Age\n",
      "Your Gender\n",
      "Hello Harsh Vardhan ; Harsh ; 23\n"
     ]
    }
   ],
   "source": [
    "print(\"Your Name\")\n",
    "name = input()\n",
    "print(\"Your Age\")\n",
    "age = input()\n",
    "print(\"Your Gender\")\n",
    "gender = input()\n",
    "print(\"Hello\", name,\";\", age,\";\", gender)"
   ]
  },
  {
   "cell_type": "markdown",
   "metadata": {},
   "source": [
    "31 years 7 months 2 days 23 hours 28.89 seconds is a billionth seconds after a person is born."
   ]
  }
 ],
 "metadata": {
  "kernelspec": {
   "display_name": "Python 3",
   "language": "python",
   "name": "python3"
  },
  "language_info": {
   "codemirror_mode": {
    "name": "ipython",
    "version": 3
   },
   "file_extension": ".py",
   "mimetype": "text/x-python",
   "name": "python",
   "nbconvert_exporter": "python",
   "pygments_lexer": "ipython3",
   "version": "3.10.12"
  },
  "orig_nbformat": 4
 },
 "nbformat": 4,
 "nbformat_minor": 2
}
