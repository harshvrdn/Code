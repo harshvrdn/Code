{
 "cells": [
  {
   "cell_type": "markdown",
   "id": "d0462c6c",
   "metadata": {},
   "source": [
    "This is a program to greet the user\n"
   ]
  },
  {
   "cell_type": "code",
   "execution_count": 1,
   "id": "e0b54291",
   "metadata": {},
   "outputs": [
    {
     "name": "stdout",
     "output_type": "stream",
     "text": [
      "Hello World !\n",
      "\n"
     ]
    }
   ],
   "source": [
    "print(\"Hello World !\\n\")"
   ]
  }
 ],
 "metadata": {
  "kernelspec": {
   "display_name": "Python 3 (ipykernel)",
   "language": "python",
   "name": "python3"
  },
  "language_info": {
   "codemirror_mode": {
    "name": "ipython",
    "version": 3
   },
   "file_extension": ".py",
   "mimetype": "text/x-python",
   "name": "python",
   "nbconvert_exporter": "python",
   "pygments_lexer": "ipython3",
   "version": "3.11.5"
  }
 },
 "nbformat": 4,
 "nbformat_minor": 5
}
