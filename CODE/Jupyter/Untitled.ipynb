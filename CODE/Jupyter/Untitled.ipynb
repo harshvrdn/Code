{
 "cells": [
  {
   "cell_type": "code",
   "execution_count": 1,
   "id": "0d16daf4",
   "metadata": {},
   "outputs": [
    {
     "name": "stdout",
     "output_type": "stream",
     "text": [
      "Hello There !\n",
      "\n"
     ]
    }
   ],
   "source": [
    "print(\"Hello There !\\n\")\n"
   ]
  },
  {
   "cell_type": "code",
   "execution_count": 2,
   "id": "42d69ce9",
   "metadata": {},
   "outputs": [
    {
     "name": "stdout",
     "output_type": "stream",
     "text": [
      " Please enter your Height is CMs :\n",
      "200\n",
      " Please enter your Weight in KGs :\n",
      "150\n",
      "Your height in meters is 2.0\n",
      "\n",
      "Your weight is 150\n",
      "\n",
      "BMI is calculated using the formula - Weight/Height^2\n",
      "\n",
      "Your BMI is 37.5\n",
      "\n",
      "Your BMI calculations suggest that you are clinically obese\n",
      "\n",
      "Thanks for checking in ;)\n",
      "\n"
     ]
    }
   ],
   "source": [
    "height_inCM = input(\" Please enter your Height is CMs :\\n\")\n",
    "weight_inKG = input(\" Please enter your Weight in KGs :\\n\")\n",
    "\n",
    "H_inM = int(height_inCM)/100\n",
    "W = int(weight_inKG)\n",
    "print(f\"Your height in meters is {H_inM}\\n\")\n",
    "print(f\"Your weight is {W}\\n\")\n",
    "\n",
    "\n",
    "\n",
    "formula = print(\"BMI is calculated using the formula - Weight/Height^2\\n\")\n",
    "\n",
    "BMI = W/(H_inM ** 2)\n",
    "print(f\"Your BMI is {BMI}\\n\")\n",
    "\n",
    "if BMI <= 18.0:\n",
    "    print(\"Your BMI calculations suggest that you are underweight\\n\")\n",
    "elif BMI >= 18.0 and BMI <= 20.0:\n",
    "    print(\"Your BMI calculations suggest that you are at normal weight\\n\")\n",
    "elif BMI >= 20.0 and BMI <=28.50:\n",
    "    print(\"Your BMI calculations suggest that you are slightly overweight\\n\")\n",
    "elif BMI >= 28.50 and BMI <=32.60:\n",
    "    print(\"Your BMI calculations suggest that you are obese\\n\")\n",
    "else:\n",
    "    print(\"Your BMI calculations suggest that you are clinically obese\\n\")\n",
    "    \n",
    "print(\"Thanks for checking in ;)\\n\")"
   ]
  },
  {
   "cell_type": "code",
   "execution_count": null,
   "id": "3856850f",
   "metadata": {},
   "outputs": [],
   "source": []
  }
 ],
 "metadata": {
  "kernelspec": {
   "display_name": "Python 3 (ipykernel)",
   "language": "python",
   "name": "python3"
  },
  "language_info": {
   "codemirror_mode": {
    "name": "ipython",
    "version": 3
   },
   "file_extension": ".py",
   "mimetype": "text/x-python",
   "name": "python",
   "nbconvert_exporter": "python",
   "pygments_lexer": "ipython3",
   "version": "3.11.3"
  }
 },
 "nbformat": 4,
 "nbformat_minor": 5
}
