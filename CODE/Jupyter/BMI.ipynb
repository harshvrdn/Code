{
 "cells": [
  {
   "cell_type": "code",
   "execution_count": null,
   "id": "6378c8db",
   "metadata": {},
   "outputs": [],
   "source": [
    "print(\"Hello There !\\n\")\n"
   ]
  },
  {
   "cell_type": "code",
   "execution_count": 9,
   "id": "a79d892e",
   "metadata": {},
   "outputs": [
    {
     "name": "stdout",
     "output_type": "stream",
     "text": [
      "Please provide your name -\n",
      "Harsh\n",
      "What is your age ?\n",
      "24\n",
      "Hello Harsh 24 , Let's calculate your 'Body Mass Index'\n",
      "\n",
      " Please enter your Height is CMs :\n",
      "189\n",
      " Please enter your Weight in KGs :\n",
      "150\n",
      "For BMI, we have to convert your Height to meter.\n",
      "\n",
      "Your height in meters is 1.89\n",
      "\n",
      "Your weight is 150\n",
      "\n",
      "BMI is calculated using the formula - Weight/Height^2\n",
      "\n",
      "150 / 1.89 * 1.89\n",
      "150 / 3.5721\n",
      "Your BMI is 41.99210548416898\n",
      "\n",
      "Your BMI calculations suggest that you are clinically obese\n",
      "\n",
      "Thanks for checking in ;)\n",
      "\n"
     ]
    }
   ],
   "source": [
    "# BMI Calculator\n",
    "\n",
    "name = input(\"Please provide your name -\\n\")\n",
    "age = input(\"What is your age ?\\n\" )\n",
    "\n",
    "print(\"Hello\", name, age, \",\", \"Let's calculate your 'Body Mass Index'\\n\")\n",
    "\n",
    "height_inCM = input(\" Please enter your Height is CMs :\\n\")\n",
    "weight_inKG = input(\" Please enter your Weight in KGs :\\n\")\n",
    "\n",
    "H_inM = int(height_inCM)/100\n",
    "W = int(weight_inKG)\n",
    "print(\"For BMI, we have to convert your Height to meter.\\n\")\n",
    "print(f\"Your height in meters is {H_inM}\\n\")\n",
    "print(f\"Your weight is {W}\\n\")\n",
    "\n",
    "\n",
    "\n",
    "formula = print(\"BMI is calculated using the formula - Weight/Height^2\\n\")\n",
    "formula_onscreen = print(W,\"/\",H_inM,\"*\",H_inM)\n",
    "formula_onscreen = print(W,\"/\",H_inM ** 2)\n",
    "\n",
    "BMI = W/(H_inM ** 2)\n",
    "print(f\"Your BMI is {BMI}\\n\")\n",
    "\n",
    "if BMI <= 18.0:\n",
    "    print(\"Your BMI calculations suggest that you are underweight\\n\")\n",
    "elif BMI >= 18.0 and BMI <= 20.0:\n",
    "    print(\"Your BMI calculations suggest that you are at normal weight\\n\")\n",
    "elif BMI >= 20.0 and BMI <=28.50:\n",
    "    print(\"Your BMI calculations suggest that you are slightly overweight\\n\")\n",
    "elif BMI >= 28.50 and BMI <=32.60:\n",
    "    print(\"Your BMI calculations suggest that you are obese\\n\")\n",
    "else:\n",
    "    print(\"Your BMI calculations suggest that you are clinically obese\\n\")\n",
    "    \n",
    "print(\"Thanks for checking in ;)\\n\")"
   ]
  }
 ],
 "metadata": {
  "kernelspec": {
   "display_name": "Python 3 (ipykernel)",
   "language": "python",
   "name": "python3"
  },
  "language_info": {
   "codemirror_mode": {
    "name": "ipython",
    "version": 3
   },
   "file_extension": ".py",
   "mimetype": "text/x-python",
   "name": "python",
   "nbconvert_exporter": "python",
   "pygments_lexer": "ipython3",
   "version": "3.11.7"
  }
 },
 "nbformat": 4,
 "nbformat_minor": 5
}
