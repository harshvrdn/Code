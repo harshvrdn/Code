{
 "cells": [
  {
   "cell_type": "code",
   "execution_count": 30,
   "id": "c1babe7a",
   "metadata": {},
   "outputs": [
    {
     "name": "stdout",
     "output_type": "stream",
     "text": [
      "Hello World!\n"
     ]
    }
   ],
   "source": [
    "# Basics\n",
    "\n",
    "print(\"Hello World!\")"
   ]
  },
  {
   "cell_type": "code",
   "execution_count": 6,
   "id": "97a5e805",
   "metadata": {},
   "outputs": [
    {
     "name": "stdout",
     "output_type": "stream",
     "text": [
      "6.84\n"
     ]
    }
   ],
   "source": [
    "x = 1.52\n",
    "y = 5.32\n",
    "\n",
    "print(x+y)"
   ]
  },
  {
   "cell_type": "code",
   "execution_count": 17,
   "id": "96900090",
   "metadata": {},
   "outputs": [
    {
     "name": "stdout",
     "output_type": "stream",
     "text": [
      "What is your Name ?\n",
      "Hello,  .Welcome to the program\n",
      "What is your age ?\n",
      "Your age is \n"
     ]
    }
   ],
   "source": [
    "# Greeting Program\n",
    "\n",
    "name = input('What is your Name ?')\n",
    "\n",
    "print(\"Hello,\", name, \".Welcome to the program\")\n",
    "\n",
    "age = input(\"What is your age ?\")\n",
    "\n",
    "print(\"Your age is\", age)"
   ]
  },
  {
   "cell_type": "code",
   "execution_count": 29,
   "id": "ffe07404",
   "metadata": {},
   "outputs": [
    {
     "data": {
      "text/plain": [
       "bool"
      ]
     },
     "execution_count": 29,
     "metadata": {},
     "output_type": "execute_result"
    }
   ],
   "source": [
    "type(True)\n"
   ]
  },
  {
   "cell_type": "code",
   "execution_count": 36,
   "id": "30ff7d6b",
   "metadata": {},
   "outputs": [
    {
     "name": "stdout",
     "output_type": "stream",
     "text": [
      "[1, 2, 3, 4, 5, 6, 7, 8, 9, 10]\n",
      "['Whiskey', 'Rum', 'Beer']\n"
     ]
    }
   ],
   "source": [
    "num = [1,2,3,4,5,6,7,8,9,10]\n",
    "\n",
    "print(num)\n",
    "\n",
    "\n",
    "char = ['Whiskey','Rum', 'Beer']\n",
    "\n",
    "print(char)"
   ]
  },
  {
   "cell_type": "code",
   "execution_count": 42,
   "id": "678ad496",
   "metadata": {},
   "outputs": [
    {
     "ename": "NameError",
     "evalue": "name 'inte' is not defined",
     "output_type": "error",
     "traceback": [
      "\u001b[0;31m---------------------------------------------------------------------------\u001b[0m",
      "\u001b[0;31mNameError\u001b[0m                                 Traceback (most recent call last)",
      "Cell \u001b[0;32mIn[42], line 7\u001b[0m\n\u001b[1;32m      3\u001b[0m         \u001b[38;5;28;01mfor\u001b[39;00m j \u001b[38;5;129;01min\u001b[39;00m latte(\u001b[38;5;241m10\u001b[39m,\u001b[38;5;241m11\u001b[39m,\u001b[38;5;241m12\u001b[39m,\u001b[38;5;241m13\u001b[39m,\u001b[38;5;241m14\u001b[39m,\u001b[38;5;241m15\u001b[39m):\n\u001b[1;32m      4\u001b[0m             \u001b[38;5;28mprint\u001b[39m(i, \u001b[38;5;124m'\u001b[39m\u001b[38;5;124mcan be paired with\u001b[39m\u001b[38;5;124m'\u001b[39m, j);\n\u001b[0;32m----> 7\u001b[0m sona()\n",
      "Cell \u001b[0;32mIn[42], line 2\u001b[0m, in \u001b[0;36msona\u001b[0;34m()\u001b[0m\n\u001b[1;32m      1\u001b[0m \u001b[38;5;28;01mdef\u001b[39;00m \u001b[38;5;21msona\u001b[39m():\n\u001b[0;32m----> 2\u001b[0m     \u001b[38;5;28;01mfor\u001b[39;00m i \u001b[38;5;129;01min\u001b[39;00m inte(\u001b[38;5;241m1\u001b[39m,\u001b[38;5;241m2\u001b[39m,\u001b[38;5;241m3\u001b[39m,\u001b[38;5;241m4\u001b[39m,\u001b[38;5;241m5\u001b[39m,\u001b[38;5;241m6\u001b[39m):\n\u001b[1;32m      3\u001b[0m         \u001b[38;5;28;01mfor\u001b[39;00m j \u001b[38;5;129;01min\u001b[39;00m latte(\u001b[38;5;241m10\u001b[39m,\u001b[38;5;241m11\u001b[39m,\u001b[38;5;241m12\u001b[39m,\u001b[38;5;241m13\u001b[39m,\u001b[38;5;241m14\u001b[39m,\u001b[38;5;241m15\u001b[39m):\n\u001b[1;32m      4\u001b[0m             \u001b[38;5;28mprint\u001b[39m(i, \u001b[38;5;124m'\u001b[39m\u001b[38;5;124mcan be paired with\u001b[39m\u001b[38;5;124m'\u001b[39m, j)\n",
      "\u001b[0;31mNameError\u001b[0m: name 'inte' is not defined"
     ]
    }
   ],
   "source": [
    "def sona():\n",
    "    for i in inte(1,2,3,4,5,6):\n",
    "        for j in latte(10,11,12,13,14,15):\n",
    "            print(i, 'can be paired with', j);\n",
    "    \n",
    "    \n",
    "sona();"
   ]
  },
  {
   "cell_type": "code",
   "execution_count": 44,
   "id": "54a54b33",
   "metadata": {},
   "outputs": [
    {
     "ename": "SyntaxError",
     "evalue": "invalid syntax. Perhaps you forgot a comma? (2167904335.py, line 2)",
     "output_type": "error",
     "traceback": [
      "\u001b[0;36m  Cell \u001b[0;32mIn[44], line 2\u001b[0;36m\u001b[0m\n\u001b[0;31m    ('Hello,' player_name, player_age, 'How you doing!')\u001b[0m\n\u001b[0m     ^\u001b[0m\n\u001b[0;31mSyntaxError\u001b[0m\u001b[0;31m:\u001b[0m invalid syntax. Perhaps you forgot a comma?\n"
     ]
    }
   ],
   "source": [
    "def name():\n",
    "    ('Hello,' player_name, player_age, 'How you doing!')\n",
    "    \n",
    "player_name = input('What is your name ?')    \n",
    "player_age = input(\"what is your age\")\n",
    "print(name())"
   ]
  }
 ],
 "metadata": {
  "kernelspec": {
   "display_name": "Python 3 (ipykernel)",
   "language": "python",
   "name": "python3"
  },
  "language_info": {
   "codemirror_mode": {
    "name": "ipython",
    "version": 3
   },
   "file_extension": ".py",
   "mimetype": "text/x-python",
   "name": "python",
   "nbconvert_exporter": "python",
   "pygments_lexer": "ipython3",
   "version": "3.11.7"
  }
 },
 "nbformat": 4,
 "nbformat_minor": 5
}
